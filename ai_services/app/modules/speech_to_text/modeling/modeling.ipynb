{
 "cells": [
  {
   "cell_type": "code",
   "execution_count": null,
   "id": "f615f883",
   "metadata": {},
   "outputs": [
    {
     "name": "stdout",
     "output_type": "stream",
     "text": [
      "Channel 1:\n",
      "Transcript: the stale smell of old beer lingers it takes heat to bring out the odor\n",
      "Confidence: 0.9835395812988281\n",
      "Channel 2:\n",
      "Transcript:  a cold dip restores health and zest a salt pickle tastes fine with ham tacos al pastor are my favorite a zestful food is the hot cross bun\n",
      "Confidence: 0.9573265910148621\n"
     ]
    }
   ],
   "source": [
    "from google.cloud import speech\n",
    "\n",
    "\n",
    "def transcribe_file(file_path):\n",
    "    import wave\n",
    "\n",
    "    # Read the sample rate from the WAV file header\n",
    "    with wave.open(file_path, \"rb\") as wav_file:\n",
    "        sample_rate = wav_file.getframerate()\n",
    "        channels = wav_file.getnchannels()\n",
    "\n",
    "    client = speech.SpeechClient()\n",
    "\n",
    "    with open(file_path, \"rb\") as audio_file:\n",
    "        content = audio_file.read()\n",
    "\n",
    "    audio = speech.RecognitionAudio(content=content)\n",
    "\n",
    "    config = speech.RecognitionConfig(\n",
    "        encoding=speech.RecognitionConfig.AudioEncoding.LINEAR16,\n",
    "        sample_rate_hertz=sample_rate, \n",
    "        language_code=\"en-US\",\n",
    "        audio_channel_count=channels,\n",
    "        enable_separate_recognition_per_channel=False,\n",
    "    )\n",
    "\n",
    "    response = client.recognize(config=config, audio=audio)\n",
    "\n",
    "    for idx, result in enumerate(response.results):\n",
    "        print(f\"Channel {result.channel_tag if result.channel_tag else idx+1}:\")\n",
    "        print(f\"Transcript: {result.alternatives[0].transcript}\")\n",
    "        print(f\"Confidence: {result.alternatives[0].confidence}\")\n",
    "\n",
    "transcribe_file('./speech_to_text/modeling/harvard.wav')"
   ]
  }
 ],
 "metadata": {
  "kernelspec": {
   "display_name": "Python 3 (ipykernel)",
   "language": "python",
   "name": "python3"
  },
  "language_info": {
   "codemirror_mode": {
    "name": "ipython",
    "version": 3
   },
   "file_extension": ".py",
   "mimetype": "text/x-python",
   "name": "python",
   "nbconvert_exporter": "python",
   "pygments_lexer": "ipython3"
  }
 },
 "nbformat": 4,
 "nbformat_minor": 5
}
